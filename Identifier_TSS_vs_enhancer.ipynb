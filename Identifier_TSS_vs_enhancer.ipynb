{
 "cells": [
  {
   "cell_type": "code",
   "execution_count": 2,
   "id": "8a7c5794",
   "metadata": {},
   "outputs": [],
   "source": [
    "import numpy as np\n",
    "from tensorflow.keras.models import Sequential\n",
    "from tensorflow.keras.layers import Conv1D, MaxPooling1D, Flatten, Dense, Dropout\n",
    "from tensorflow.keras.layers import Embedding\n",
    "from sklearn.model_selection import train_test_split\n",
    "from tensorflow.keras.utils import to_categorical\n",
    "from tensorflow.keras.layers import LSTM\n",
    "from tensorflow.keras.preprocessing.sequence import pad_sequences"
   ]
  },
  {
   "cell_type": "code",
   "execution_count": 3,
   "id": "deb2de3f",
   "metadata": {},
   "outputs": [],
   "source": [
    "import re\n",
    "def readFastaFile(Fasta): ## Working fine\n",
    "    handle=open(Fasta,'r')\n",
    "    lines=[]\n",
    "    for line in handle:\n",
    "        if('>' not in line):\n",
    "            lineRead = re.split(\"\\n\",line)\n",
    "            lines.append(lineRead[0])\n",
    "            \n",
    "    handle.close()\n",
    "    \n",
    "    return lines"
   ]
  },
  {
   "cell_type": "code",
   "execution_count": 159,
   "id": "faded748",
   "metadata": {},
   "outputs": [],
   "source": [
    "h3k4me3=readFastaFile('HCT116_H3K4me3_GRCh38.fasta')\n",
    "h3k4me1=readFastaFile('HCT116_H3K4me1_GRCh38.fasta')"
   ]
  },
  {
   "cell_type": "code",
   "execution_count": 160,
   "id": "a757d1f7",
   "metadata": {},
   "outputs": [
    {
     "data": {
      "text/plain": [
       "60741"
      ]
     },
     "execution_count": 160,
     "metadata": {},
     "output_type": "execute_result"
    }
   ],
   "source": [
    "len(h3k4me3) ## 60741\n",
    "#len(h3k4me1) ## 102094"
   ]
  },
  {
   "cell_type": "code",
   "execution_count": 161,
   "id": "d9a630ce",
   "metadata": {},
   "outputs": [],
   "source": [
    " import random\n",
    "h3k4me3_random = random.sample(h3k4me3, 1000)\n",
    "h3k4me1_random = random.sample(h3k4me1, 1000)\n"
   ]
  },
  {
   "cell_type": "code",
   "execution_count": 162,
   "id": "4c89955a",
   "metadata": {},
   "outputs": [],
   "source": [
    "## From code above, selecting a random subset of h3k4me3 and h3k4me1 to avoid bias. Will use this subset\n",
    "## to build training and test set"
   ]
  },
  {
   "cell_type": "code",
   "execution_count": 163,
   "id": "5c0093be",
   "metadata": {},
   "outputs": [],
   "source": [
    "h3k4me3_label = [0] * 1000\n",
    "h3k4me1_label = [1] * 1000"
   ]
  },
  {
   "cell_type": "code",
   "execution_count": null,
   "id": "949fe344",
   "metadata": {},
   "outputs": [],
   "source": []
  },
  {
   "cell_type": "code",
   "execution_count": 164,
   "id": "32569831",
   "metadata": {},
   "outputs": [],
   "source": [
    "h3k4me3_random.extend(h3k4me1_random)"
   ]
  },
  {
   "cell_type": "code",
   "execution_count": 165,
   "id": "5abdd8fe",
   "metadata": {},
   "outputs": [
    {
     "data": {
      "text/plain": [
       "2000"
      ]
     },
     "execution_count": 165,
     "metadata": {},
     "output_type": "execute_result"
    }
   ],
   "source": [
    "len(h3k4me3_random)"
   ]
  },
  {
   "cell_type": "code",
   "execution_count": 166,
   "id": "12e61221",
   "metadata": {},
   "outputs": [],
   "source": [
    "h3k4me3_label.extend(h3k4me1_label)"
   ]
  },
  {
   "cell_type": "code",
   "execution_count": 167,
   "id": "8b94818b",
   "metadata": {},
   "outputs": [
    {
     "data": {
      "text/plain": [
       "2000"
      ]
     },
     "execution_count": 167,
     "metadata": {},
     "output_type": "execute_result"
    }
   ],
   "source": [
    "len(h3k4me3_label)"
   ]
  },
  {
   "cell_type": "code",
   "execution_count": 262,
   "id": "8c2425c1",
   "metadata": {},
   "outputs": [
    {
     "data": {
      "text/plain": [
       "['TGCACTCCGAGCCACACACTCACACCCCACCCACCTGGCCCCAGACCCTGCTCTCCACAGAAATACTGCACACCCTGCTCTCCACAGAAATAATCAGGCATACTCAGTCCCACACAACCCCAGGCATACATACATCCCCACACACATGTACCCCATGTACATCCATATGCCATAACCAGACACATCTCTCTCATACAGAAACACAGACATGTTCAGTCACATGTGCATGTCCTTCGATACCCAGCATCCCAACACAGAACACTCCTAGGCACACACTTAGAGCCACCAGCCATGTCACATATCCCCACACAGAGGCTCATTACACAGCCCCAGGCACAGCCTCACACATTCATGTTTGTGTAGTCACATCATGTTCCAGCTTGGGCATGTGCTTACGTGTGAGACACGCA',\n",
       " 'tctcccgaatctggctctcttcctctttcctccttcctcTCCTACTCTGCTGTCATTCCTTCCCTTTCTTCAGTGGAAAGAGGACACGTTTCACAGTAGACACACAGGATAactcaaccttctgagcctcagtttcctcctgcgtaaatggggtaataatgggaccttcatctca',\n",
       " 'tctgtctctcgctctcactctcgctctcACCCTGCAGCCACGTGGCAGTGTTTAAGCACAGACCTCTCCATCCCTTACTGGGATCATTGCACCAGCCTCTGCCAGAATCCCCTGCCACCAGGCTCACCCTGCCTGTCCAAACCCCTCGGCAGTCA',\n",
       " 'TAGATTCCACAGTCTCCGGAAGCAGGGCTGGGGAAGAAATGGCAAACTAGGGATCTTACCTGGGCCTTCCCAGTTGAGACTACGTCAAAATGGGCTCCCATGAGACTGCCTGGCTCATGCAGATGGAAGGCTAACATCTTTTTAGAAACAACTCGTGCTACCCTCTCCTGTTCCAAAAGCCTGTCTGGTCAGAATGGTGGTA']"
      ]
     },
     "execution_count": 262,
     "metadata": {},
     "output_type": "execute_result"
    }
   ],
   "source": [
    "h3k4me3_random[1:5]"
   ]
  },
  {
   "cell_type": "code",
   "execution_count": 240,
   "id": "feb20ec5",
   "metadata": {},
   "outputs": [],
   "source": [
    "def encode_dna(sequence):\n",
    "    \"\"\"Encodes DNA sequences to one-hot integer representation.\"\"\"\n",
    "    mapping = {'A': 0, 'C': 1, 'G': 2, 'T': 3,'a': 0, 'c': 1, 'g': 2, 't': 3,'N': 4}\n",
    "    return np.array([mapping[base] for base in sequence])"
   ]
  },
  {
   "cell_type": "code",
   "execution_count": 241,
   "id": "90ad2a19",
   "metadata": {},
   "outputs": [
    {
     "name": "stderr",
     "output_type": "stream",
     "text": [
      "/var/folders/y3/j7m02tjx5tl14byfj3dnk__00000gn/T/ipykernel_9813/4288198879.py:2: VisibleDeprecationWarning: Creating an ndarray from ragged nested sequences (which is a list-or-tuple of lists-or-tuples-or ndarrays with different lengths or shapes) is deprecated. If you meant to do this, you must specify 'dtype=object' when creating the ndarray.\n",
      "  encoded_sequences = np.array([encode_dna(seq) for seq in h3k4me3_random])\n"
     ]
    }
   ],
   "source": [
    "# 2. Encode the sequences\n",
    "encoded_sequences = np.array([encode_dna(seq) for seq in h3k4me3_random])"
   ]
  },
  {
   "cell_type": "code",
   "execution_count": 263,
   "id": "5f017354",
   "metadata": {},
   "outputs": [
    {
     "data": {
      "text/plain": [
       "array([[3, 2, 1, ..., 0, 0, 0],\n",
       "       [3, 1, 3, ..., 0, 0, 0],\n",
       "       [3, 1, 3, ..., 0, 0, 0],\n",
       "       [3, 0, 2, ..., 0, 0, 0]], dtype=int32)"
      ]
     },
     "execution_count": 263,
     "metadata": {},
     "output_type": "execute_result"
    }
   ],
   "source": [
    "encoded_sequences[1:5]"
   ]
  },
  {
   "cell_type": "code",
   "execution_count": 243,
   "id": "cbeb5b9c",
   "metadata": {},
   "outputs": [],
   "source": [
    "# 3. Padding sequences to make them uniform\n",
    "from tensorflow.keras.preprocessing.sequence import pad_sequences\n",
    "max_length = max(len(seq) for seq in encoded_sequences)\n",
    "encoded_sequences = pad_sequences(encoded_sequences, maxlen=max_length, padding='post')"
   ]
  },
  {
   "cell_type": "code",
   "execution_count": 244,
   "id": "fb164401",
   "metadata": {},
   "outputs": [
    {
     "data": {
      "text/plain": [
       "array([[3, 2, 1, ..., 0, 0, 0],\n",
       "       [3, 1, 3, ..., 0, 0, 0],\n",
       "       [3, 1, 3, ..., 0, 0, 0],\n",
       "       ...,\n",
       "       [2, 1, 3, ..., 0, 0, 0],\n",
       "       [3, 1, 3, ..., 0, 0, 0],\n",
       "       [0, 3, 2, ..., 0, 0, 0]], dtype=int32)"
      ]
     },
     "execution_count": 244,
     "metadata": {},
     "output_type": "execute_result"
    }
   ],
   "source": [
    "encoded_sequences[1:100]"
   ]
  },
  {
   "cell_type": "code",
   "execution_count": 246,
   "id": "258d383e",
   "metadata": {},
   "outputs": [],
   "source": [
    "# 4. Train-test split\n",
    "X_train, X_test, y_train, y_test = train_test_split(encoded_sequences, h3k4me3_label, test_size=0.2, random_state=42)"
   ]
  },
  {
   "cell_type": "code",
   "execution_count": 247,
   "id": "a5cf5fe1",
   "metadata": {},
   "outputs": [],
   "source": [
    "# Convert labels to categorical (one-hot encoding for multiclass)\n",
    "y_train = to_categorical(y_train, num_classes=2)\n",
    "y_test = to_categorical(y_test, num_classes=2)"
   ]
  },
  {
   "cell_type": "code",
   "execution_count": 248,
   "id": "386a424d",
   "metadata": {},
   "outputs": [],
   "source": [
    "# 5. Define the CNN model\n",
    "model = Sequential([\n",
    "    Embedding(input_dim=5, output_dim=10, input_length=max_length),  # 4 nucleotides -> 8-d embedding\n",
    "    Conv1D(filters=128, kernel_size=3, activation='sigmoid'),\n",
    "    MaxPooling1D(pool_size=2),\n",
    "    Flatten(),\n",
    "    Dense(64, activation='relu'),\n",
    "    Dropout(0.5),\n",
    "    Dense(2, activation='softmax')  # 2 classes (binary classification)\n",
    "])"
   ]
  },
  {
   "cell_type": "code",
   "execution_count": 249,
   "id": "bcb63eee",
   "metadata": {},
   "outputs": [],
   "source": [
    "model.compile(optimizer='adam', loss='categorical_crossentropy', metrics=['accuracy'])"
   ]
  },
  {
   "cell_type": "code",
   "execution_count": 253,
   "id": "998ec002",
   "metadata": {},
   "outputs": [
    {
     "data": {
      "text/plain": [
       "1600"
      ]
     },
     "execution_count": 253,
     "metadata": {},
     "output_type": "execute_result"
    }
   ],
   "source": [
    "len(y_train)"
   ]
  },
  {
   "cell_type": "code",
   "execution_count": 251,
   "id": "7be1db88",
   "metadata": {},
   "outputs": [
    {
     "data": {
      "text/plain": [
       "1600"
      ]
     },
     "execution_count": 251,
     "metadata": {},
     "output_type": "execute_result"
    }
   ],
   "source": [
    "len(X_train)"
   ]
  },
  {
   "cell_type": "code",
   "execution_count": 252,
   "id": "d6d320a4",
   "metadata": {},
   "outputs": [
    {
     "name": "stdout",
     "output_type": "stream",
     "text": [
      "Epoch 1/30\n",
      "80/80 [==============================] - 40s 492ms/step - loss: 24.9952 - accuracy: 0.4898 - val_loss: 0.6928 - val_accuracy: 0.5437\n",
      "Epoch 2/30\n",
      "80/80 [==============================] - 39s 486ms/step - loss: 0.6932 - accuracy: 0.5008 - val_loss: 0.6935 - val_accuracy: 0.4563\n",
      "Epoch 3/30\n",
      "80/80 [==============================] - 39s 486ms/step - loss: 0.6931 - accuracy: 0.5117 - val_loss: 0.6941 - val_accuracy: 0.4563\n",
      "Epoch 4/30\n",
      "80/80 [==============================] - 38s 476ms/step - loss: 0.6930 - accuracy: 0.5117 - val_loss: 0.6946 - val_accuracy: 0.4563\n",
      "Epoch 5/30\n",
      "80/80 [==============================] - 39s 489ms/step - loss: 0.6930 - accuracy: 0.5117 - val_loss: 0.6949 - val_accuracy: 0.4563\n",
      "Epoch 6/30\n",
      "80/80 [==============================] - 38s 481ms/step - loss: 0.6930 - accuracy: 0.5117 - val_loss: 0.6946 - val_accuracy: 0.4563\n",
      "Epoch 7/30\n",
      "80/80 [==============================] - 39s 482ms/step - loss: 0.6929 - accuracy: 0.5117 - val_loss: 0.6950 - val_accuracy: 0.4563\n",
      "Epoch 8/30\n",
      "80/80 [==============================] - 38s 480ms/step - loss: 0.6930 - accuracy: 0.5117 - val_loss: 0.6954 - val_accuracy: 0.4563\n",
      "Epoch 9/30\n",
      "80/80 [==============================] - 39s 485ms/step - loss: 0.6930 - accuracy: 0.5117 - val_loss: 0.6952 - val_accuracy: 0.4563\n",
      "Epoch 10/30\n",
      "80/80 [==============================] - 38s 479ms/step - loss: 0.6929 - accuracy: 0.5117 - val_loss: 0.6952 - val_accuracy: 0.4563\n",
      "Epoch 11/30\n",
      "80/80 [==============================] - 38s 478ms/step - loss: 0.6930 - accuracy: 0.5117 - val_loss: 0.6952 - val_accuracy: 0.4563\n",
      "Epoch 12/30\n",
      "80/80 [==============================] - 39s 485ms/step - loss: 0.6929 - accuracy: 0.5117 - val_loss: 0.6955 - val_accuracy: 0.4563\n",
      "Epoch 13/30\n",
      "80/80 [==============================] - 38s 470ms/step - loss: 0.6929 - accuracy: 0.5117 - val_loss: 0.6953 - val_accuracy: 0.4563\n",
      "Epoch 14/30\n",
      "80/80 [==============================] - 38s 478ms/step - loss: 0.6930 - accuracy: 0.5117 - val_loss: 0.6952 - val_accuracy: 0.4563\n",
      "Epoch 15/30\n",
      "80/80 [==============================] - 39s 485ms/step - loss: 0.6930 - accuracy: 0.5117 - val_loss: 0.6958 - val_accuracy: 0.4563\n",
      "Epoch 16/30\n",
      "80/80 [==============================] - 38s 478ms/step - loss: 0.6930 - accuracy: 0.5117 - val_loss: 0.6955 - val_accuracy: 0.4563\n",
      "Epoch 17/30\n",
      "80/80 [==============================] - 69s 863ms/step - loss: 0.6930 - accuracy: 0.5117 - val_loss: 0.6957 - val_accuracy: 0.4563\n",
      "Epoch 18/30\n",
      "80/80 [==============================] - 38s 472ms/step - loss: 0.6930 - accuracy: 0.5117 - val_loss: 0.6955 - val_accuracy: 0.4563\n",
      "Epoch 19/30\n",
      "80/80 [==============================] - 38s 473ms/step - loss: 0.6930 - accuracy: 0.5117 - val_loss: 0.6953 - val_accuracy: 0.4563\n",
      "Epoch 20/30\n",
      "80/80 [==============================] - 39s 485ms/step - loss: 0.6929 - accuracy: 0.5117 - val_loss: 0.6953 - val_accuracy: 0.4563\n",
      "Epoch 21/30\n",
      "80/80 [==============================] - 42s 531ms/step - loss: 0.6930 - accuracy: 0.5117 - val_loss: 0.6951 - val_accuracy: 0.4563\n",
      "Epoch 22/30\n",
      "80/80 [==============================] - 45s 560ms/step - loss: 0.6929 - accuracy: 0.5117 - val_loss: 0.6954 - val_accuracy: 0.4563\n",
      "Epoch 23/30\n",
      "80/80 [==============================] - 41s 509ms/step - loss: 0.6930 - accuracy: 0.5117 - val_loss: 0.6955 - val_accuracy: 0.4563\n",
      "Epoch 24/30\n",
      "80/80 [==============================] - 41s 516ms/step - loss: 0.6929 - accuracy: 0.5117 - val_loss: 0.6951 - val_accuracy: 0.4563\n",
      "Epoch 25/30\n",
      "80/80 [==============================] - 41s 513ms/step - loss: 0.6929 - accuracy: 0.5117 - val_loss: 0.6955 - val_accuracy: 0.4563\n",
      "Epoch 26/30\n",
      "80/80 [==============================] - 41s 515ms/step - loss: 0.6930 - accuracy: 0.5117 - val_loss: 0.6953 - val_accuracy: 0.4563\n",
      "Epoch 27/30\n",
      "80/80 [==============================] - 41s 516ms/step - loss: 0.6930 - accuracy: 0.5117 - val_loss: 0.6954 - val_accuracy: 0.4563\n",
      "Epoch 28/30\n",
      "80/80 [==============================] - 41s 511ms/step - loss: 0.6929 - accuracy: 0.5117 - val_loss: 0.6954 - val_accuracy: 0.4563\n",
      "Epoch 29/30\n",
      "80/80 [==============================] - 41s 516ms/step - loss: 0.6930 - accuracy: 0.5117 - val_loss: 0.6955 - val_accuracy: 0.4563\n",
      "Epoch 30/30\n",
      "80/80 [==============================] - 37s 467ms/step - loss: 0.6930 - accuracy: 0.5117 - val_loss: 0.6951 - val_accuracy: 0.4563\n"
     ]
    }
   ],
   "source": [
    "# 7. Train the model\n",
    "history = model.fit(X_train, y_train, epochs=30, batch_size=16, validation_split=0.2)"
   ]
  },
  {
   "cell_type": "code",
   "execution_count": 254,
   "id": "20094525",
   "metadata": {},
   "outputs": [
    {
     "data": {
      "text/plain": [
       "1600"
      ]
     },
     "execution_count": 254,
     "metadata": {},
     "output_type": "execute_result"
    }
   ],
   "source": [
    "len(X_train) ## 8000\n",
    "len(y_train)"
   ]
  },
  {
   "cell_type": "code",
   "execution_count": 255,
   "id": "3992fe95",
   "metadata": {},
   "outputs": [
    {
     "name": "stdout",
     "output_type": "stream",
     "text": [
      "13/13 [==============================] - 3s 206ms/step - loss: 0.6934 - accuracy: 0.4975\n",
      "Test Loss: 0.6934419870376587\n",
      "Test Accuracy: 0.4975000023841858\n"
     ]
    }
   ],
   "source": [
    "# 8. Evaluate the model\n",
    "loss, accuracy = model.evaluate(X_test, y_test)\n",
    "print(f\"Test Loss: {loss}\")\n",
    "print(f\"Test Accuracy: {accuracy}\")"
   ]
  },
  {
   "cell_type": "code",
   "execution_count": 264,
   "id": "fab42149",
   "metadata": {},
   "outputs": [
    {
     "data": {
      "text/plain": [
       "array([[1., 0.],\n",
       "       [0., 1.],\n",
       "       [1., 0.],\n",
       "       [0., 1.]], dtype=float32)"
      ]
     },
     "execution_count": 264,
     "metadata": {},
     "output_type": "execute_result"
    }
   ],
   "source": [
    "y_test[1:5]"
   ]
  },
  {
   "cell_type": "code",
   "execution_count": null,
   "id": "fd7a460a",
   "metadata": {},
   "outputs": [],
   "source": []
  }
 ],
 "metadata": {
  "kernelspec": {
   "display_name": "Python 3 (ipykernel)",
   "language": "python",
   "name": "python3"
  },
  "language_info": {
   "codemirror_mode": {
    "name": "ipython",
    "version": 3
   },
   "file_extension": ".py",
   "mimetype": "text/x-python",
   "name": "python",
   "nbconvert_exporter": "python",
   "pygments_lexer": "ipython3",
   "version": "3.8.13"
  }
 },
 "nbformat": 4,
 "nbformat_minor": 5
}
